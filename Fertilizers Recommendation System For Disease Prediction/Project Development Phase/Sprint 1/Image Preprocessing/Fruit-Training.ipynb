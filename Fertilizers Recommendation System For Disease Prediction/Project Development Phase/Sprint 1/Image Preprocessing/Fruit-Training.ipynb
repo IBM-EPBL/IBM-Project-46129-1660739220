{
 "cells": [
  {
   "cell_type": "code",
   "execution_count": 4,
   "id": "f3e7114f",
   "metadata": {},
   "outputs": [],
   "source": [
    "from keras.preprocessing.image import ImageDataGenerator\n",
    "train_datagen = ImageDataGenerator(rescale = 1./255,shear_range = 0.2,zoom_range = 0.2,horizontal_flip = True)\n",
    "test_datagen = ImageDataGenerator(rescale = 1)"
   ]
  },
  {
   "cell_type": "code",
   "execution_count": 9,
   "id": "6aa60f8e",
   "metadata": {},
   "outputs": [
    {
     "name": "stdout",
     "output_type": "stream",
     "text": [
      "Found 5384 images belonging to 6 classes.\n",
      "Found 1637 images belonging to 5 classes.\n"
     ]
    }
   ],
   "source": [
    "x_train = train_datagen.flow_from_directory('D:/Plant Disease/Data Collection/Dataset Plant Disease/fruit-dataset/train',target_size = (128,128),batch_size = 32,class_mode = 'categorical')\n",
    "x_test = test_datagen.flow_from_directory('D:/Plant Disease/Data Collection/Dataset Plant Disease/fruit-dataset/test',target_size = (128,128),batch_size = 32,class_mode = 'categorical')"
   ]
  }
 ],
 "metadata": {
  "kernelspec": {
   "display_name": "Python 3 (ipykernel)",
   "language": "python",
   "name": "python3"
  },
  "language_info": {
   "codemirror_mode": {
    "name": "ipython",
    "version": 3
   },
   "file_extension": ".py",
   "mimetype": "text/x-python",
   "name": "python",
   "nbconvert_exporter": "python",
   "pygments_lexer": "ipython3",
   "version": "3.9.12"
  }
 },
 "nbformat": 4,
 "nbformat_minor": 5
}
