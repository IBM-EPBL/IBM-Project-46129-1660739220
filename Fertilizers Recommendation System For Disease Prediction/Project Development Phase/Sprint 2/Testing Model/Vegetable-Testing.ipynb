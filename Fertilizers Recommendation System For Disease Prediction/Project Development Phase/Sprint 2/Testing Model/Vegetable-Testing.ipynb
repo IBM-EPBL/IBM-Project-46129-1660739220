{
 "cells": [
  {
   "cell_type": "code",
   "execution_count": 2,
   "id": "f60c72e3",
   "metadata": {},
   "outputs": [],
   "source": [
    "from keras.preprocessing import image\n",
    "from tensorflow.keras.preprocessing.image import *\n",
    "from tensorflow.keras.preprocessing.image import img_to_array\n",
    "from tensorflow.keras.models import load_model\n",
    "import numpy as np"
   ]
  },
  {
   "cell_type": "code",
   "execution_count": 3,
   "id": "96f5603e",
   "metadata": {},
   "outputs": [],
   "source": [
    "model = load_model (\"D:/Plant Disease/Ibm Training Files/vegetable.h5\")"
   ]
  },
  {
   "cell_type": "code",
   "execution_count": 15,
   "id": "5af91abf",
   "metadata": {},
   "outputs": [],
   "source": [
    "img = load_img(r'D:\\Plant Disease\\Data Collection\\Dataset Plant Disease\\Veg-dataset\\test_set\\Potato___Late_blight\\bc53f0fd-df00-42c6-ad50-aef25d2c6f7a___RS_LB 2954.jpg',target_size = (128,128))"
   ]
  },
  {
   "cell_type": "code",
   "execution_count": 20,
   "id": "ee8c805d",
   "metadata": {},
   "outputs": [
    {
     "name": "stdout",
     "output_type": "stream",
     "text": [
      "1/1 [==============================] - 0s 72ms/step\n"
     ]
    },
    {
     "data": {
      "text/plain": [
       "'Tomato___Bacterial_spot'"
      ]
     },
     "execution_count": 20,
     "metadata": {},
     "output_type": "execute_result"
    }
   ],
   "source": [
    "x=img_to_array(img)\n",
    "x=np.expand_dims(x,axis=0)\n",
    "y=np.argmax(model.predict(x),axis=1)\n",
    "index=['Pepper,_bell___Bacterial_spot','Pepper,_bell___healthy','Potato___Early_blight','Potato___healthy','Potato___Late_blight','Tomato___Bacterial_spot','Tomato___Late_blight','Tomato___Leaf_Mold','Tomato___Septoria_leaf_spot']\n",
    "index[y[0]]"
   ]
  }
 ],
 "metadata": {
  "kernelspec": {
   "display_name": "Python 3 (ipykernel)",
   "language": "python",
   "name": "python3"
  },
  "language_info": {
   "codemirror_mode": {
    "name": "ipython",
    "version": 3
   },
   "file_extension": ".py",
   "mimetype": "text/x-python",
   "name": "python",
   "nbconvert_exporter": "python",
   "pygments_lexer": "ipython3",
   "version": "3.9.12"
  }
 },
 "nbformat": 4,
 "nbformat_minor": 5
}
