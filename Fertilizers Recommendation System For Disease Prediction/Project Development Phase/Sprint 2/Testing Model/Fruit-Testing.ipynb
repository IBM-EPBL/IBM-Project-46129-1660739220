{
 "cells": [
  {
   "cell_type": "code",
   "execution_count": 1,
   "id": "7b7e257d",
   "metadata": {},
   "outputs": [],
   "source": [
    "from keras.preprocessing import image\n",
    "from tensorflow.keras.preprocessing.image import *\n",
    "from tensorflow.keras.preprocessing.image import img_to_array\n",
    "from tensorflow.keras.models import load_model\n",
    "import numpy as np"
   ]
  },
  {
   "cell_type": "code",
   "execution_count": 2,
   "id": "c8d5bde4",
   "metadata": {},
   "outputs": [],
   "source": [
    "model = load_model (\"D:/Plant Disease/Ibm Training Files/fruit.h5\")"
   ]
  },
  {
   "cell_type": "code",
   "execution_count": 3,
   "id": "52963e0e",
   "metadata": {},
   "outputs": [],
   "source": [
    "img = load_img(r'D:/Plant Disease/Data Collection/Dataset Plant Disease/fruit-dataset/test/Apple___healthy/0a02e8cb-b715-497f-a16a-c28b3409f927___RS_HL 7432.jpg',target_size = (128,128))"
   ]
  },
  {
   "cell_type": "code",
   "execution_count": 4,
   "id": "07bab8e9",
   "metadata": {},
   "outputs": [
    {
     "name": "stdout",
     "output_type": "stream",
     "text": [
      "1/1 [==============================] - 1s 671ms/step\n"
     ]
    },
    {
     "data": {
      "text/plain": [
       "'Apple___healthy'"
      ]
     },
     "execution_count": 4,
     "metadata": {},
     "output_type": "execute_result"
    }
   ],
   "source": [
    "x=img_to_array(img)\n",
    "x=np.expand_dims(x,axis=0)\n",
    "y=np.argmax(model.predict(x),axis=1)\n",
    "index=['Apple___Black_rot', 'Apple___healthy', 'Corn_(maize)___healthy', 'Corn_(maize)___Northern_Leaf_Blight', 'Peach___Bacterial_spot', 'Peach___healthy']\n",
    "index[y[0]]"
   ]
  }
 ],
 "metadata": {
  "kernelspec": {
   "display_name": "Python 3 (ipykernel)",
   "language": "python",
   "name": "python3"
  },
  "language_info": {
   "codemirror_mode": {
    "name": "ipython",
    "version": 3
   },
   "file_extension": ".py",
   "mimetype": "text/x-python",
   "name": "python",
   "nbconvert_exporter": "python",
   "pygments_lexer": "ipython3",
   "version": "3.9.12"
  }
 },
 "nbformat": 4,
 "nbformat_minor": 5
}
