{
 "cells": [
  {
   "cell_type": "markdown",
   "id": "4a0c73ca",
   "metadata": {},
   "source": [
    "# Image preprocessing"
   ]
  },
  {
   "cell_type": "code",
   "execution_count": 1,
   "id": "b259a0d2",
   "metadata": {},
   "outputs": [],
   "source": [
    "from keras.preprocessing.image import ImageDataGenerator\n",
    "train_datagen = ImageDataGenerator(rescale = 1./255,shear_range = 0.2,zoom_range = 0.2,horizontal_flip = True)\n",
    "test_datagen = ImageDataGenerator(rescale = 1)"
   ]
  },
  {
   "cell_type": "code",
   "execution_count": 2,
   "id": "9306f7db",
   "metadata": {},
   "outputs": [
    {
     "name": "stdout",
     "output_type": "stream",
     "text": [
      "Found 11386 images belonging to 9 classes.\n",
      "Found 3416 images belonging to 9 classes.\n"
     ]
    }
   ],
   "source": [
    "x_train = train_datagen.flow_from_directory('D:/Plant Disease/Data Collection/Dataset Plant Disease/Veg-dataset/train_set',target_size = (128,128),batch_size = 32,class_mode = 'categorical')\n",
    "x_test = test_datagen.flow_from_directory('D:/Plant Disease/Data Collection/Dataset Plant Disease/Veg-dataset/test_set',target_size = (128,128),batch_size = 32,class_mode = 'categorical')"
   ]
  },
  {
   "cell_type": "markdown",
   "id": "6c8a62a6",
   "metadata": {},
   "source": [
    "# Importing Libraries"
   ]
  },
  {
   "cell_type": "code",
   "execution_count": 3,
   "id": "386db4bf",
   "metadata": {},
   "outputs": [],
   "source": [
    "from keras.models import Sequential\n",
    "from keras.layers import Dense\n",
    "from keras.layers import Convolution2D\n",
    "from keras.layers import MaxPooling2D\n",
    "from keras.layers import Flatten"
   ]
  },
  {
   "cell_type": "markdown",
   "id": "90ce510e",
   "metadata": {},
   "source": [
    "# Initializing Model"
   ]
  },
  {
   "cell_type": "code",
   "execution_count": 4,
   "id": "8309a92a",
   "metadata": {},
   "outputs": [],
   "source": [
    "model = Sequential()"
   ]
  },
  {
   "cell_type": "markdown",
   "id": "e9c181a4",
   "metadata": {},
   "source": [
    "# Adding CNN layers"
   ]
  },
  {
   "cell_type": "markdown",
   "id": "7afd8a78",
   "metadata": {},
   "source": [
    "### Convolution Layer"
   ]
  },
  {
   "cell_type": "code",
   "execution_count": 5,
   "id": "f23a2372",
   "metadata": {},
   "outputs": [],
   "source": [
    "model.add(Convolution2D(32,(3,3),input_shape = (128,128,3),activation = 'relu'))"
   ]
  },
  {
   "cell_type": "markdown",
   "id": "5582756f",
   "metadata": {},
   "source": [
    "### Pooling Layer"
   ]
  },
  {
   "cell_type": "code",
   "execution_count": 6,
   "id": "14a073c7",
   "metadata": {},
   "outputs": [],
   "source": [
    "model.add(MaxPooling2D(pool_size = (2,2)))"
   ]
  },
  {
   "cell_type": "markdown",
   "id": "6a93f061",
   "metadata": {},
   "source": [
    "### Flatten Layer"
   ]
  },
  {
   "cell_type": "code",
   "execution_count": 7,
   "id": "e3b69621",
   "metadata": {},
   "outputs": [],
   "source": [
    "model.add(Flatten())"
   ]
  },
  {
   "cell_type": "markdown",
   "id": "c60862d1",
   "metadata": {},
   "source": [
    "# Adding Dense Layer"
   ]
  },
  {
   "cell_type": "code",
   "execution_count": 16,
   "id": "a4031647",
   "metadata": {},
   "outputs": [],
   "source": [
    "model.add(Dense(40,kernel_initializer='uniform', activation = 'relu'))\n",
    "model.add(Dense(20,kernel_initializer = 'random_uniform', activation = 'relu'))\n",
    "model.add(Dense(9,kernel_initializer = 'random_uniform', activation = 'softmax'))"
   ]
  },
  {
   "cell_type": "code",
   "execution_count": 17,
   "id": "a0259ec0",
   "metadata": {},
   "outputs": [
    {
     "name": "stdout",
     "output_type": "stream",
     "text": [
      "Model: \"sequential\"\n",
      "_________________________________________________________________\n",
      " Layer (type)                Output Shape              Param #   \n",
      "=================================================================\n",
      " conv2d (Conv2D)             (None, 126, 126, 32)      896       \n",
      "                                                                 \n",
      " max_pooling2d (MaxPooling2D  (None, 63, 63, 32)       0         \n",
      " )                                                               \n",
      "                                                                 \n",
      " flatten (Flatten)           (None, 127008)            0         \n",
      "                                                                 \n",
      " dense (Dense)               (None, 40)                5080360   \n",
      "                                                                 \n",
      " dense_1 (Dense)             (None, 20)                820       \n",
      "                                                                 \n",
      " dense_2 (Dense)             (None, 6)                 126       \n",
      "                                                                 \n",
      " dense_3 (Dense)             (None, 40)                280       \n",
      "                                                                 \n",
      " dense_4 (Dense)             (None, 20)                820       \n",
      "                                                                 \n",
      " dense_5 (Dense)             (None, 9)                 189       \n",
      "                                                                 \n",
      "=================================================================\n",
      "Total params: 5,083,491\n",
      "Trainable params: 5,083,491\n",
      "Non-trainable params: 0\n",
      "_________________________________________________________________\n"
     ]
    }
   ],
   "source": [
    "model.summary()"
   ]
  },
  {
   "cell_type": "markdown",
   "id": "362c7ea3",
   "metadata": {},
   "source": [
    "# Train and Save the Model"
   ]
  },
  {
   "cell_type": "code",
   "execution_count": 18,
   "id": "7792ec2d",
   "metadata": {},
   "outputs": [],
   "source": [
    "model.compile(loss='categorical_crossentropy',optimizer=\"adam\",metrics=[\"accuracy\"])"
   ]
  },
  {
   "cell_type": "code",
   "execution_count": 19,
   "id": "5d8cfdb6",
   "metadata": {},
   "outputs": [
    {
     "name": "stderr",
     "output_type": "stream",
     "text": [
      "C:\\Users\\Surya Thangaprakasam\\AppData\\Local\\Temp\\ipykernel_3020\\19863176.py:1: UserWarning: `Model.fit_generator` is deprecated and will be removed in a future version. Please use `Model.fit`, which supports generators.\n",
      "  model.fit_generator(x_train,steps_per_epoch=355,epochs=3,validation_data=x_test,validation_steps=52)\n"
     ]
    },
    {
     "name": "stdout",
     "output_type": "stream",
     "text": [
      "Epoch 1/3\n",
      "355/355 [==============================] - 739s 2s/step - loss: 2.0999 - accuracy: 0.1848 - val_loss: 2.0845 - val_accuracy: 0.2013\n",
      "Epoch 2/3\n",
      "355/355 [==============================] - 402s 1s/step - loss: 2.0749 - accuracy: 0.1866 - val_loss: 2.0879 - val_accuracy: 0.1965\n",
      "Epoch 3/3\n",
      "355/355 [==============================] - 324s 911ms/step - loss: 2.0743 - accuracy: 0.1868 - val_loss: 2.0897 - val_accuracy: 0.1875\n"
     ]
    },
    {
     "data": {
      "text/plain": [
       "<keras.callbacks.History at 0x1d82e2e0610>"
      ]
     },
     "execution_count": 19,
     "metadata": {},
     "output_type": "execute_result"
    }
   ],
   "source": [
    "model.fit_generator(x_train,steps_per_epoch=355,epochs=3,validation_data=x_test,validation_steps=52)\n",
    "#model.fit_generator(x_train,steps_per_epoch=168,epochs=3,validation_data=x_test,validation_steps=32)"
   ]
  },
  {
   "cell_type": "code",
   "execution_count": 20,
   "id": "655e09d4",
   "metadata": {},
   "outputs": [],
   "source": [
    "model.save('vegetable.h5')"
   ]
  }
 ],
 "metadata": {
  "kernelspec": {
   "display_name": "Python 3 (ipykernel)",
   "language": "python",
   "name": "python3"
  },
  "language_info": {
   "codemirror_mode": {
    "name": "ipython",
    "version": 3
   },
   "file_extension": ".py",
   "mimetype": "text/x-python",
   "name": "python",
   "nbconvert_exporter": "python",
   "pygments_lexer": "ipython3",
   "version": "3.9.12"
  }
 },
 "nbformat": 4,
 "nbformat_minor": 5
}
